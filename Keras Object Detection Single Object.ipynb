{
 "cells": [
  {
   "cell_type": "code",
   "execution_count": 1,
   "metadata": {},
   "outputs": [],
   "source": [
    "import numpy as np\n",
    "import matplotlib.pyplot as plt\n",
    "import matplotlib\n",
    "%matplotlib inline"
   ]
  },
  {
   "cell_type": "code",
   "execution_count": 2,
   "metadata": {},
   "outputs": [
    {
     "data": {
      "text/plain": [
       "((50000, 8, 8), (50000, 1, 4))"
      ]
     },
     "execution_count": 2,
     "metadata": {},
     "output_type": "execute_result"
    }
   ],
   "source": [
    "#Generate simple images of random rectangles, image size = 8x8\n",
    "\n",
    "num_images = 50000\n",
    "\n",
    "img_size = 8\n",
    "min_object_size = 1\n",
    "max_object_size = 4\n",
    "num_objects = 1\n",
    "\n",
    "bboxes  = np.zeros((num_images, num_objects, 4))\n",
    "imgs = np.zeros((num_images, img_size, img_size))  #Create images of size 8x8 and set background to white, 0 = white\n",
    "\n",
    "for i_img in range(num_images):\n",
    "    for i_object in range(num_objects):\n",
    "        w, h = np.random.randint(min_object_size, max_object_size, size = 2)\n",
    "        x = np.random.randint(0, img_size - w)\n",
    "        y = np.random.randint(0, img_size - h)\n",
    "        imgs[i_img, x:x+w, y:y+h] = 1  #Set the random rectangles in white background to black, 1 = black\n",
    "        bboxes[i_img, i_object] = [x, y, w, h]\n",
    "\n",
    "imgs.shape, bboxes.shape"
   ]
  },
  {
   "cell_type": "code",
   "execution_count": 3,
   "metadata": {},
   "outputs": [
    {
     "data": {
      "image/png": "[encoded data removed]",
      "text/plain": [
       "<Figure size 432x288 with 1 Axes>"
      ]
     },
     "metadata": {},
     "output_type": "display_data"
    }
   ],
   "source": [
    "i = np.random.randint(0, num_images)\n",
    "plt.imshow(imgs[i].T, cmap='Greys', interpolation='none', origin='lower', extent=[0, img_size, 0, img_size])\n",
    "for bbox in bboxes[i]:\n",
    "    plt.gca().add_patch(matplotlib.patches.Rectangle((bbox[0], bbox[1]), bbox[2], bbox[3], ec='r', fc='none'))"
   ]
  },
  {
   "cell_type": "code",
   "execution_count": 4,
   "metadata": {},
   "outputs": [
    {
     "data": {
      "text/plain": [
       "((50000, 64), -6.459721646479011e-17, 1.0)"
      ]
     },
     "execution_count": 4,
     "metadata": {},
     "output_type": "execute_result"
    }
   ],
   "source": [
    "#Reshape and normalize the immages data to mean 0 and std 1\n",
    "X = (imgs.reshape(num_images, -1) - np.mean(imgs)) / np.std(imgs)\n",
    "X.shape, np.mean(X), np.std(X)"
   ]
  },
  {
   "cell_type": "code",
   "execution_count": 5,
   "metadata": {
    "scrolled": true
   },
   "outputs": [
    {
     "data": {
      "text/plain": [
       "((50000, 4), 0.280670625, 0.17500674169045424)"
      ]
     },
     "execution_count": 5,
     "metadata": {},
     "output_type": "execute_result"
    }
   ],
   "source": [
    "#Normalize x, y, w, h by img_size, so that all values are between 0 and 1\n",
    "#Important: Do not shift to negative values (e.g. by settig to mean 0), because IOU calulations needs positive w and h.\n",
    "y = bboxes.reshape(num_images, -1) / img_size\n",
    "y.shape, np.mean(y), np.std(y)"
   ]
  },
  {
   "cell_type": "code",
   "execution_count": 6,
   "metadata": {},
   "outputs": [],
   "source": [
    "#Split training and test images\n",
    "i = int(0.8 * num_images)\n",
    "train_X = X[:i]\n",
    "test_X = X[i:]\n",
    "train_y = y[:i]\n",
    "test_y = y[i:]\n",
    "test_imgs = imgs[i:]\n",
    "test_bboxes = bboxes[i:]"
   ]
  },
  {
   "cell_type": "code",
   "execution_count": 7,
   "metadata": {},
   "outputs": [
    {
     "name": "stderr",
     "output_type": "stream",
     "text": [
      "C:\\ProgramData\\Anaconda3\\lib\\site-packages\\h5py\\__init__.py:36: FutureWarning: Conversion of the second argument of issubdtype from `float` to `np.floating` is deprecated. In future, it will be treated as `np.float64 == np.dtype(float).type`.\n",
      "  from ._conv import register_converters as _register_converters\n",
      "Using TensorFlow backend.\n"
     ]
    }
   ],
   "source": [
    "#Build the model\n",
    "from keras.models import Sequential\n",
    "from keras.layers import Dense, Activation, Dropout\n",
    "from keras.optimizers import SGD"
   ]
  },
  {
   "cell_type": "code",
   "execution_count": 8,
   "metadata": {},
   "outputs": [],
   "source": [
    "model = Sequential([\n",
    "                    Dense(200, input_dim = X.shape[-1]),\n",
    "                    Activation('relu'),\n",
    "                    Dropout(0.2),\n",
    "                    Dense(y.shape[-1])\n",
    "                    ])\n",
    "model.compile('adadelta', 'mse')"
   ]
  },
  {
   "cell_type": "code",
   "execution_count": 9,
   "metadata": {},
   "outputs": [
    {
     "name": "stderr",
     "output_type": "stream",
     "text": [
      "C:\\ProgramData\\Anaconda3\\lib\\site-packages\\ipykernel_launcher.py:2: UserWarning: The `nb_epoch` argument in `fit` has been renamed `epochs`.\n",
      "  \n"
     ]
    },
    {
     "name": "stdout",
     "output_type": "stream",
     "text": [
      "Train on 40000 samples, validate on 10000 samples\n",
      "Epoch 1/30\n",
      " - 7s - loss: 0.0292 - val_loss: 6.8164e-04\n",
      "Epoch 2/30\n",
      " - 6s - loss: 0.0018 - val_loss: 3.5233e-04\n",
      "Epoch 3/30\n",
      " - 6s - loss: 0.0013 - val_loss: 2.1303e-04\n",
      "Epoch 4/30\n",
      " - 7s - loss: 0.0011 - val_loss: 1.4007e-04\n",
      "Epoch 5/30\n",
      " - 7s - loss: 0.0010 - val_loss: 1.0659e-04\n",
      "Epoch 6/30\n",
      " - 5s - loss: 9.3442e-04 - val_loss: 1.1523e-04\n",
      "Epoch 7/30\n",
      " - 6s - loss: 8.9246e-04 - val_loss: 1.0871e-04\n",
      "Epoch 8/30\n",
      " - 6s - loss: 8.5330e-04 - val_loss: 1.1063e-04\n",
      "Epoch 9/30\n",
      " - 6s - loss: 8.3455e-04 - val_loss: 9.5882e-05\n",
      "Epoch 10/30\n",
      " - 6s - loss: 8.0802e-04 - val_loss: 8.5605e-05\n",
      "Epoch 11/30\n",
      " - 6s - loss: 7.8741e-04 - val_loss: 8.2301e-05\n",
      "Epoch 12/30\n",
      " - 7s - loss: 7.7011e-04 - val_loss: 1.0423e-04\n",
      "Epoch 13/30\n",
      " - 7s - loss: 7.5428e-04 - val_loss: 9.2430e-05\n",
      "Epoch 14/30\n",
      " - 7s - loss: 7.4481e-04 - val_loss: 8.5776e-05\n",
      "Epoch 15/30\n",
      " - 7s - loss: 7.3306e-04 - val_loss: 6.5844e-05\n",
      "Epoch 16/30\n",
      " - 7s - loss: 7.1496e-04 - val_loss: 7.5495e-05\n",
      "Epoch 17/30\n",
      " - 7s - loss: 7.1320e-04 - val_loss: 8.3269e-05\n",
      "Epoch 18/30\n",
      " - 7s - loss: 7.0709e-04 - val_loss: 6.7297e-05\n",
      "Epoch 19/30\n",
      " - 6s - loss: 6.9292e-04 - val_loss: 8.2491e-05\n",
      "Epoch 20/30\n",
      " - 7s - loss: 6.8405e-04 - val_loss: 1.3034e-04\n",
      "Epoch 21/30\n",
      " - 6s - loss: 6.8086e-04 - val_loss: 9.9281e-05\n",
      "Epoch 22/30\n",
      " - 6s - loss: 6.7412e-04 - val_loss: 6.4251e-05\n",
      "Epoch 23/30\n",
      " - 6s - loss: 6.6965e-04 - val_loss: 6.2082e-05\n",
      "Epoch 24/30\n",
      " - 6s - loss: 6.6850e-04 - val_loss: 7.9514e-05\n",
      "Epoch 25/30\n",
      " - 8s - loss: 6.5978e-04 - val_loss: 6.9381e-05\n",
      "Epoch 26/30\n",
      " - 6s - loss: 6.5085e-04 - val_loss: 4.7111e-05\n",
      "Epoch 27/30\n",
      " - 7s - loss: 6.4931e-04 - val_loss: 5.2433e-05\n",
      "Epoch 28/30\n",
      " - 6s - loss: 6.4093e-04 - val_loss: 6.7840e-05\n",
      "Epoch 29/30\n",
      " - 6s - loss: 6.3894e-04 - val_loss: 7.7424e-05\n",
      "Epoch 30/30\n",
      " - 5s - loss: 6.4144e-04 - val_loss: 5.7556e-05\n"
     ]
    },
    {
     "data": {
      "text/plain": [
       "<keras.callbacks.History at 0x1724c152ba8>"
      ]
     },
     "execution_count": 9,
     "metadata": {},
     "output_type": "execute_result"
    }
   ],
   "source": [
    "#Train\n",
    "model.fit(train_X, train_y, nb_epoch = 30, validation_data = (test_X, test_y), verbose = 2)"
   ]
  },
  {
   "cell_type": "code",
   "execution_count": 10,
   "metadata": {},
   "outputs": [
    {
     "data": {
      "text/plain": [
       "(10000, 1, 4)"
      ]
     },
     "execution_count": 10,
     "metadata": {},
     "output_type": "execute_result"
    }
   ],
   "source": [
    "#Predict bounding boxes on the test images.\n",
    "pred_y = model.predict(test_X)\n",
    "pred_bboxes = pred_y * img_size\n",
    "pred_bboxes = pred_bboxes.reshape(len(pred_bboxes), num_objects, -1)\n",
    "pred_bboxes.shape"
   ]
  },
  {
   "cell_type": "code",
   "execution_count": 11,
   "metadata": {},
   "outputs": [],
   "source": [
    "def IOU(bbox1, bbox2):\n",
    "    '''Calculate overlap between two bounding boxes [x, y, w, h] as the area of intersection over area of union'''\n",
    "    x1, y1, w1, h1 = bbox1[0], bbox1[1], bbox1[2], bbox1[3]\n",
    "    x2, y2, w2, h2 = bbox2[0], bbox2[1], bbox2[2], bbox2[3]\n",
    "    \n",
    "    w_I = min(x1 + w1, x2 + w2) - max(x1, x2)\n",
    "    h_I = min(y1 + h1, y2 + h2) - max(y1, y2)\n",
    "    if w_I <= 0 or h_I <= 0:   #No Overlap\n",
    "        return 0\n",
    "    I = w_I * h_I\n",
    "    \n",
    "    U = w1 * h1 + w2 * h2 - I\n",
    "\n",
    "    return I / U"
   ]
  },
  {
   "cell_type": "code",
   "execution_count": 12,
   "metadata": {},
   "outputs": [
    {
     "data": {
      "image/png": "[encoded data removed]",
      "text/plain": [
       "<Figure size 864x216 with 4 Axes>"
      ]
     },
     "metadata": {},
     "output_type": "display_data"
    }
   ],
   "source": [
    "#Show a few images and predicted bounding boxes from the test dataset. \n",
    "plt.figure(figsize=(12, 3))\n",
    "for i_subplot in range(1, 5):\n",
    "    plt.subplot(1, 4, i_subplot)\n",
    "    i = np.random.randint(len(test_imgs))\n",
    "    plt.imshow(test_imgs[i].T, cmap ='Greys', interpolation ='none', origin ='lower', extent = [0, img_size, 0, img_size])\n",
    "    for pred_bbox, exp_bbox in zip(pred_bboxes[i], test_bboxes[i]):\n",
    "        plt.gca().add_patch(matplotlib.patches.Rectangle((pred_bbox[0], pred_bbox[1]), pred_bbox[2], pred_bbox[3], ec = 'r', fc = 'none'))\n",
    "        plt.annotate('IOU: {:.2f}'.format(IOU(pred_bbox, exp_bbox)), (pred_bbox[0], pred_bbox[1] + pred_bbox[3] + 0.2), color = 'r')\n",
    "        \n",
    "#plt.savefig('plots/bw-single-rectangle_prediction.png', dpi=300)"
   ]
  },
  {
   "cell_type": "code",
   "execution_count": 13,
   "metadata": {},
   "outputs": [
    {
     "data": {
      "text/plain": [
       "0.8813179860423505"
      ]
     },
     "execution_count": 13,
     "metadata": {},
     "output_type": "execute_result"
    }
   ],
   "source": [
    "#Calculate the mean IOU (overlap) between the predicted and expected bounding boxes on the test dataset. \n",
    "summed_IOU = 0.\n",
    "for pred_bbox, test_bbox in zip(pred_bboxes.reshape(-1, 4), test_bboxes.reshape(-1, 4)):\n",
    "    summed_IOU += IOU(pred_bbox, test_bbox)\n",
    "mean_IOU = summed_IOU / len(pred_bboxes)\n",
    "mean_IOU"
   ]
  },
  {
   "cell_type": "code",
   "execution_count": null,
   "metadata": {},
   "outputs": [],
   "source": []
  }
 ],
 "metadata": {
  "kernelspec": {
   "display_name": "Python 3",
   "language": "python",
   "name": "python3"
  },
  "language_info": {
   "codemirror_mode": {
    "name": "ipython",
    "version": 3
   },
   "file_extension": ".py",
   "mimetype": "text/x-python",
   "name": "python",
   "nbconvert_exporter": "python",
   "pygments_lexer": "ipython3",
   "version": "3.6.5"
  }
 },
 "nbformat": 4,
 "nbformat_minor": 2
}
